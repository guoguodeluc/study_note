{
 "cells": [
  {
   "cell_type": "markdown",
   "metadata": {},
   "source": [
    "双指针（Two Pointer）专题\n",
    "===\n",
    "- 双指针滑动的一般写法：左指针不断往右移，至边界条件（具体题目而定）；然后向左移动右指针，直到双指针汇合，进入下一轮循环；\n",
    "- 通常双指针滑动在**排序**后进行，并在指针移动过程中**跳过重复元素**；\n",
    "\n",
    "\n",
    "Index\n",
    "---\n",
    "<!-- TOC -->\n",
    "\n",
    "- [三数之和（3Sum）](#三数之和（3Sum）)\n",
    "    \n",
    "<!-- /TOC -->"
   ]
  },
  {
   "cell_type": "markdown",
   "metadata": {},
   "source": [
    "### 三数之和（3Sum）\n",
    "> 三数之和 | https://leetcode-cn.com/problems/3sum/\n",
    "\n",
    "**问题描述**\n",
    "```text\n",
    "给你一个包含 n 个整数的数组 nums，判断 nums 中是否存在三个元素 a，b，c ，使得 a + b + c = 0 ？请你找出所有和为 0 且不重复的三元组。\n",
    "\n",
    "注意：答案中不可以包含重复的三元组。\n",
    "\n",
    "示例 1：\n",
    "    输入：nums = [-1,0,1,2,-1,-4]\n",
    "    输出：[[-1,-1,2],[-1,0,1]]\n",
    "\n",
    "示例 2：\n",
    "    输入：nums = []\n",
    "    输出：[]\n",
    "\n",
    "示例 3：\n",
    "    输入：nums = [0]\n",
    "    输出：[]\n",
    "\n",
    "提示：\n",
    "    0 <= nums.length <= 3000\n",
    "    -105 <= nums[i] <= 105\n",
    "```\n",
    "\n",
    "**算法简述**\n",
    "1. 对数组排序；\n",
    "1. 先**固定一个数**，通常固定第一个数，或者最后一个，两者类似，**但不建议固定中间位置的数**（见踩坑记录）；\n",
    "1. 此时左右指针分别指向**剩余部分**的首尾位置；此时若三数之和小于目标值，则右移左指针；若大于目标值，则左移右指针；\n",
    "- 为避免存入重复组，需要循环跳过重复元素；\n",
    "- 可以使用set去重，但这不是考察要点，其次也存在效率问题；\n",
    "\n",
    "**踩坑记录**\n",
    "1. 为什么不要固定中间位置的数？\n",
    "    - 固定第一个或最后一个数可以**缩小**每次遍历双指针的范围；\n",
    "    - 但是固定中间位置的数则不会，这会带来额外的判重操作；\n",
    "    \n",
    "    ```python\n",
    "    # 固定第一个数\n",
    "    for i in range(L - 2):\n",
    "        lp, rp = i + 1, L - 1  # 左指针与 i 的位置相关\n",
    "    \n",
    "    # 固定中间位置的数\n",
    "    for i in range(1, L - 1):\n",
    "        lp, rp = 0, L - 1  # 左右指针始终不变\n",
    "    ```\n",
    "    \n",
    "1. 循环重复判断的位置\n",
    "    - 有如下三个位置：（都可以找到相应代码）\n",
    "        ```python\n",
    "        while lp < rp:\n",
    "\n",
    "            # 位置 1\n",
    "\n",
    "            s = nums[lp] + nums[i] + nums[rp]\n",
    "            if s == target:\n",
    "                ret.append([nums[lp], nums[i], nums[rp]])\n",
    "\n",
    "                # 位置 2\n",
    "\n",
    "                lp += 1\n",
    "                rp -= 1\n",
    "\n",
    "                # 位置 3\n",
    "                \n",
    "            elif s < target:\n",
    "                lp += 1\n",
    "            else:  # s > target\n",
    "                rp -= 1\n",
    "        ```\n",
    "\n",
    "    - 如果写在位置1或3 应该与上一个数比较；如果写在位置2 应该与下一个数比较；个中区别建议手书一次流程来理解：\n",
    "    - 位置1 可以参考下面的写法：（速度较慢）\n",
    "\n",
    "        ```python\n",
    "        # 跟上一个数比较\n",
    "        if lp > i + 1 and nums[lp] == nums[lp - 1]:\n",
    "            lp += 1\n",
    "            continue\n",
    "        if rp < L - 1 and nums[rp] == nums[rp + 1]:\n",
    "            rp -= 1\n",
    "            continue\n",
    "        ```\n",
    "        \n",
    "    - 位置2：\n",
    "    \n",
    "        ```python\n",
    "        # 跟下一个数比较\n",
    "        while lp < rp and nums[lp] == nums[lp + 1]: lp += 1\n",
    "        while lp < rp and nums[rp] == nums[rp - 1]: rp -= 1\n",
    "        ```\n",
    "        \n",
    "    - 位置3：\n",
    "    \n",
    "        ```python\n",
    "        # 跟上一个数比较\n",
    "        while lp < rp and nums[lp] == nums[lp - 1]: lp += 1\n",
    "        while lp < rp and nums[rp] == nums[rp + 1]: rp -= 1\n",
    "        ```"
   ]
  },
  {
   "cell_type": "code",
   "execution_count": 1,
   "metadata": {},
   "outputs": [],
   "source": [
    "from typing import List\n",
    "\n",
    "\n",
    "class Solution:\n",
    "    def threeSum(self, nums: List[int]) -> List[List[int]]:\n",
    "        # 设置目标值\n",
    "        target = 0\n",
    "\n",
    "        # 排序\n",
    "        nums = sorted(nums)\n",
    "\n",
    "        # 结果\n",
    "        ret = []\n",
    "\n",
    "        L = len(nums)\n",
    "        for i in range(L - 2):  # 选取锚定点，去头去尾\n",
    "            # 设置左右指针\n",
    "            lp, rp = i + 1, L - 1\n",
    "\n",
    "            # 跳过重复值，必须跟上一个值比较，而非下一个值\n",
    "            if i > 0 and nums[i] == nums[i - 1]:\n",
    "                continue\n",
    "\n",
    "            i_last = nums[i]\n",
    "            while lp < rp:\n",
    "\n",
    "                s = nums[lp] + nums[i] + nums[rp]\n",
    "                if s == target:\n",
    "                    ret.append([nums[lp], nums[i], nums[rp]])\n",
    "\n",
    "                    # 跳过重复值，跟下一个值比较\n",
    "                    while lp < rp and nums[lp] == nums[lp + 1]: lp += 1\n",
    "                    while lp < rp and nums[rp] == nums[rp - 1]: rp -= 1\n",
    "\n",
    "                    lp += 1\n",
    "                    rp -= 1\n",
    "\n",
    "                    # 跳过重复值，跟上一个值比较\n",
    "                    # while lp < rp and nums[lp] == nums[lp - 1]: lp += 1\n",
    "                    # while lp < rp and nums[rp] == nums[rp + 1]: rp -= 1\n",
    "                elif s < target:\n",
    "                    lp += 1\n",
    "                else:  # s > target\n",
    "                    rp -= 1\n",
    "\n",
    "        return ret\n"
   ]
  },
  {
   "cell_type": "code",
   "execution_count": 2,
   "metadata": {},
   "outputs": [
    {
     "data": {
      "text/plain": [
       "[[-1, -1, 2], [0, -1, 1]]"
      ]
     },
     "execution_count": 2,
     "metadata": {},
     "output_type": "execute_result"
    }
   ],
   "source": [
    "# 示例 1\n",
    "nums = [-1,0,1,2,-1,-4]\n",
    "Solution().threeSum(nums)"
   ]
  },
  {
   "cell_type": "code",
   "execution_count": 3,
   "metadata": {},
   "outputs": [
    {
     "data": {
      "text/plain": [
       "[[1, -5, 4], [0, -4, 4], [1, -4, 3], [-2, -2, 4], [1, -2, 1], [0, 0, 0]]"
      ]
     },
     "execution_count": 3,
     "metadata": {},
     "output_type": "execute_result"
    }
   ],
   "source": [
    "# 示例 1\n",
    "nums = [-4,-2,1,-5,-4,-4,4,-2,0,4,0,-2,3,1,-5,0]\n",
    "Solution().threeSum(nums)"
   ]
  },
  {
   "cell_type": "code",
   "execution_count": null,
   "metadata": {},
   "outputs": [],
   "source": []
  }
 ],
 "metadata": {
  "kernelspec": {
   "display_name": "Python 3",
   "language": "python",
   "name": "python3"
  },
  "language_info": {
   "codemirror_mode": {
    "name": "ipython",
    "version": 3
   },
   "file_extension": ".py",
   "mimetype": "text/x-python",
   "name": "python",
   "nbconvert_exporter": "python",
   "pygments_lexer": "ipython3",
   "version": "3.7.4"
  }
 },
 "nbformat": 4,
 "nbformat_minor": 4
}
